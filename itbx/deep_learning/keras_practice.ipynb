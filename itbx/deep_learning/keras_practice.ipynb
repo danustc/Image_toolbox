{
 "cells": [
  {
   "cell_type": "code",
   "execution_count": 41,
   "metadata": {
    "collapsed": false
   },
   "outputs": [],
   "source": [
    "from __future__ import print_function\n",
    "import keras\n",
    "from keras.layers import Input, Conv2D, MaxPooling2D\n",
    "from keras.models import Sequential, Model\n",
    "import os\n",
    "import glob\n",
    "from keras.preprocessing.image import ImageDataGenerator\n",
    "import numpy as np\n",
    "import matplotlib.pyplot as plt\n",
    "\n",
    "imrows, imcols = 70, 90\n"
   ]
  },
  {
   "cell_type": "code",
   "execution_count": 44,
   "metadata": {
    "collapsed": false
   },
   "outputs": [],
   "source": [
    "'''\n",
    "Test the sequential model.\n",
    "'''\n",
    "test_model = Sequential()\n",
    "test_model.add(Conv2D(32, kernel_size=(3,3), activation = 'relu', input_shape = (imrows, imcols,1)))\n",
    "test_model.add(Conv2D(64, kernel_size=(3,3), activation = 'relu'))\n",
    "test_model.add(MaxPooling2D(pool_size = (2,2)))\n",
    "model.compile(loss=keras.losses.categorical_crossentropy, optimizer=keras.optimizers.Adadelta(),metrics=['accuracy'])\n",
    "\n",
    "\n",
    "\n"
   ]
  },
  {
   "cell_type": "code",
   "execution_count": null,
   "metadata": {
    "collapsed": true
   },
   "outputs": [],
   "source": [
    "'''\n",
    "Test the generic model.\n",
    "'''"
   ]
  },
  {
   "cell_type": "code",
   "execution_count": 36,
   "metadata": {
    "collapsed": true
   },
   "outputs": [],
   "source": [
    "def create_training_data(rt_path, tc_flags = None, n_row = 800, n_col = 1000):\n",
    "    '''\n",
    "    create training data from the existing tiff stacks, save as npy\n",
    "    '''\n",
    "    im_lists = glob.glob(rt_path+'*'+tc_flags + '*.tif')\n",
    "    for im_name in im_lists:\n",
    "        im_stack = tf.read_tiff(im_name)\n",
    "        nz, ny, nx = im_stack.shape\n",
    "        x_pad = n_col - nx\n",
    "        y_pad = n_row - ny\n",
    "        im_padded = np.pad(im_stack, [(0,0), (y_pad, 0), (x_pad, 0)], mode = 'minimum')\n",
    "        np.save(os.path.splitext(im_name), im_padded)\n",
    "    print(\"Saving completed.\")"
   ]
  },
  {
   "cell_type": "code",
   "execution_count": null,
   "metadata": {
    "collapsed": true
   },
   "outputs": [],
   "source": [
    "def model_generation(im_row, im_col)\n",
    "    '''\n",
    "    Generate a training model\n",
    "    '''\n",
    "    inputs = Input((im_row, im_col, 1))\n",
    "    conv1 = Conv2D(32,(3,3))\n",
    "    "
   ]
  },
  {
   "cell_type": "code",
   "execution_count": null,
   "metadata": {
    "collapsed": true
   },
   "outputs": [],
   "source": []
  },
  {
   "cell_type": "code",
   "execution_count": null,
   "metadata": {
    "collapsed": true
   },
   "outputs": [],
   "source": []
  }
 ],
 "metadata": {
  "kernelspec": {
   "display_name": "Python 3",
   "language": "python",
   "name": "python3"
  },
  "language_info": {
   "codemirror_mode": {
    "name": "ipython",
    "version": 3
   },
   "file_extension": ".py",
   "mimetype": "text/x-python",
   "name": "python",
   "nbconvert_exporter": "python",
   "pygments_lexer": "ipython3",
   "version": "3.5.2"
  }
 },
 "nbformat": 4,
 "nbformat_minor": 1
}
