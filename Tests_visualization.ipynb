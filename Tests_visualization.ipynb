{
 "cells": [
  {
   "cell_type": "markdown",
   "metadata": {
    "collapsed": false
   },
   "source": [
    "## Test visualization of calcium imaging data. Created on 11/04/17 by Dan.\n",
    "\n",
    "**Tasks to be fulfilled: **\n",
    "1. Load the data and convert the coordinate values into microns.\n",
    "2. Clean the data if necessary \n",
    "3. Perform ICA and cluster the IC coefficients \n",
    "4. Display the anatomical distribution of the IC-representing neurons\n"
   ]
  },
  {
   "cell_type": "code",
   "execution_count": 15,
   "metadata": {
    "collapsed": true
   },
   "outputs": [],
   "source": [
    "import numpy as np\n",
    "import sys\n",
    "import matplotlib.pyplot as plt\n",
    "from mpl_toolkits.mplot3d import Axes3D\n",
    "sys.path.append('/home/sillycat/Proramming/Python/Image_toolbox/src/')\n",
    "import src.networks.df_f as df_f\n",
    "import src.visualization.stat_present as stat_present\n",
    "import src.visualization.signal_plot as signal_plot\n",
    "import src.networks.simple_variance as simple_variance\n",
    "import src.networks.ica_sorting as ica_sorting\n",
    "import src.networks.clustering as clustering\n",
    "from sklearn import linear_model \n",
    "from sklearn.cluster import KMeans\n",
    "import glob\n",
    "import os\n",
    "import h5py"
   ]
  },
  {
   "cell_type": "code",
   "execution_count": 14,
   "metadata": {
    "collapsed": true
   },
   "outputs": [],
   "source": [
    "n_ic = 3 # number of independent components\n",
    "frac_trunc = 3 # the fraction of neurons that are used for computing the independent components\n",
    "global_datapath = '/home/sillycat/Programming/Python/Image_toolbox/data_test/'\n",
    "local_datafolder = 'FB_resting_15min'"
   ]
  },
  {
   "cell_type": "code",
   "execution_count": null,
   "metadata": {
    "collapsed": false
   },
   "outputs": [],
   "source": [
    "#  the h5 data sets are all cleaned and the inactive cells are removed.\n",
    "data_list = glob.glob(global_datapath + local_datafolder + '/*.h5')\n",
    "\n",
    "for data_fname in data_list:\n",
    "    basename = '_'.join(os.path.basename(data_fname).split('.')[0].split('_')[:3])\n",
    "    print(basename)\n",
    "    fin = h5py.File(data_fname, 'r+')\n",
    "    coord = np.array(fin['coord'])\n",
    "    signal = np.array(fin['signal'])\n",
    "    NT, NC = signal.shape\n",
    "    n_trunc = int(NC/3)\n",
    "    dff_ica, a_mix, s_mean = ica_sorting.ica_dff(signal[:,:n_trunc], n_comp = 3)\n",
    "    print(a_mix.shape)\n",
    "    ic_coeff = ica_sorting.ica_regression(dff_ica, signal[:, n_trunc:]) # fit the rest \n",
    "    fin.close()\n",
    "    print(ic_coeff.shape)\n",
    "    ico_total = np.r_[a_mix, ic_coeff]\n",
    "    '''\n",
    "    Now, let's classify the ic_coeffs\n",
    "    '''\n",
    "    figc, R, Z = clustering.dis2cluster(ico_total, p_levels = 4, yield_z = True)\n",
    "    figc.savefig(global_datapath + local_datafolder + '/'+basename)\n",
    "    ind_list_L = clustering.subtree(Z, NC, 'L', True)\n",
    "    ind_list_R = clustering.subtree(Z, NC, 'R', True)\n",
    "    \n",
    "    # question: should I do Kmeans clustering on a_mix or ico_total?\n",
    "    \n",
    "    cls_pred = KMeans(n_clusters = n_ic, random_state = 0, verbose = 1).fit(ico_total)\n",
    "    labels = cls_pred.labels_\n",
    "    \n",
    "    fig = plt.figure(figsize=(8,6))\n",
    "    ax = Axes3D(fig, elev = 48, azim = 134)\n",
    "    ax.scatter(ico_total[:,0], ico_total[:,1], ico_total[:,2], c = labels, s = 25)\n",
    "    fig.show()\n",
    "    plt.close()\n",
    "    "
   ]
  },
  {
   "cell_type": "code",
   "execution_count": null,
   "metadata": {
    "collapsed": true
   },
   "outputs": [],
   "source": []
  }
 ],
 "metadata": {
  "kernelspec": {
   "display_name": "Python 3",
   "language": "python",
   "name": "python3"
  },
  "language_info": {
   "codemirror_mode": {
    "name": "ipython",
    "version": 3
   },
   "file_extension": ".py",
   "mimetype": "text/x-python",
   "name": "python",
   "nbconvert_exporter": "python",
   "pygments_lexer": "ipython3",
   "version": "3.5.2"
  }
 },
 "nbformat": 4,
 "nbformat_minor": 1
}
