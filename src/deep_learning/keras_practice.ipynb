{
 "cells": [
  {
   "cell_type": "code",
   "execution_count": 37,
   "metadata": {
    "collapsed": false
   },
   "outputs": [],
   "source": [
    "from __future__ import print_function\n",
    "from keras.layers import Input, concatenate, Conv2D, MaxPooling2D\n",
    "from keras.models import Sequential, Model\n",
    "import os\n",
    "import glob\n",
    "from keras.preprocessing.image import ImageDataGenerator\n",
    "global_training_path = '/home/sillycat/Programming/Python/Image_toolbox/data_test/'\n",
    "import numpy as np\n",
    "import sys\n",
    "sys.path.append('/home/sillycat/Programming/Python/Image_toolbox/')\n",
    "import src.shared_funcs.tifffunc as tf\n",
    "import matplotlib.pyplot as plt"
   ]
  },
  {
   "cell_type": "code",
   "execution_count": 36,
   "metadata": {
    "collapsed": true
   },
   "outputs": [],
   "source": [
    "def create_training_data(rt_path, tc_flags = None, n_row = 800, n_col = 1000):\n",
    "    '''\n",
    "    create training data from the existing tiff stacks, save as npy\n",
    "    '''\n",
    "    im_lists = glob.glob(rt_path+'*'+tc_flags + '*.tif')\n",
    "    for im_name in im_lists:\n",
    "        im_stack = tf.read_tiff(im_name)\n",
    "        nz, ny, nx = im_stack.shape\n",
    "        x_pad = n_col - nx\n",
    "        y_pad = n_row - ny\n",
    "        im_padded = np.pad(im_stack, [(0,0), (y_pad, 0), (x_pad, 0)], mode = 'minimum')\n",
    "        np.save(os.path.splitext(im_name), im_padded)\n",
    "    print(\"Saving completed.\")"
   ]
  },
  {
   "cell_type": "code",
   "execution_count": null,
   "metadata": {
    "collapsed": true
   },
   "outputs": [],
   "source": [
    "def model_generation(im_row, im_col)\n",
    "    '''\n",
    "    Generate a training model\n",
    "    '''\n",
    "    inputs = Input((im_row, im_col, 1))\n",
    "    conv1 = Conv2D(32,(3,3))\n",
    "    "
   ]
  },
  {
   "cell_type": "code",
   "execution_count": null,
   "metadata": {
    "collapsed": true
   },
   "outputs": [],
   "source": []
  },
  {
   "cell_type": "code",
   "execution_count": null,
   "metadata": {
    "collapsed": true
   },
   "outputs": [],
   "source": []
  }
 ],
 "metadata": {
  "kernelspec": {
   "display_name": "Python 3",
   "language": "python",
   "name": "python3"
  },
  "language_info": {
   "codemirror_mode": {
    "name": "ipython",
    "version": 3
   },
   "file_extension": ".py",
   "mimetype": "text/x-python",
   "name": "python",
   "nbconvert_exporter": "python",
   "pygments_lexer": "ipython3",
   "version": "3.5.2"
  }
 },
 "nbformat": 4,
 "nbformat_minor": 1
}
